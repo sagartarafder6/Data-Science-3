{
 "cells": [
  {
   "cell_type": "code",
   "execution_count": 1,
   "metadata": {},
   "outputs": [],
   "source": [
    "import pandas as pd # importing all necessary Libraries \n",
    "from matplotlib import pyplot as plt \n",
    "import numpy as np"
   ]
  },
  {
   "cell_type": "code",
   "execution_count": 2,
   "metadata": {},
   "outputs": [],
   "source": [
    "miss_df = pd.read_csv(r\"pima_indians_diabetes_miss.csv\") # Reading pima_indians_diabetes_miss.csv file using panda\n",
    "original_df = pd.read_csv(r\"pima_indians_diabetes_original.csv\") # Reading pima_indians_diabetes_original.csv file using panda\n",
    "attributes = list(miss_df.head()) # grabing attributes"
   ]
  },
  {
   "cell_type": "code",
   "execution_count": 3,
   "metadata": {},
   "outputs": [],
   "source": [
    "def Graph(freq,title,xlabel,ylabel): # defining funtion to plot graph\n",
    "    y = np.arange(len(attributes))\n",
    "    plt.bar(y,freq,align='center',width=0.12,color='red',alpha=0.8)\n",
    "    plt.scatter(y,freq,color='blue',alpha=1)\n",
    "    plt.title(title)\n",
    "    plt.xlabel(xlabel)\n",
    "    plt.ylabel(ylabel)\n",
    "    plt.xticks(y,attributes)\n",
    "    plt.show()"
   ]
  },
  {
   "cell_type": "code",
   "execution_count": 4,
   "metadata": {},
   "outputs": [],
   "source": [
    "def Q1(): # function that count null values of each attribute and plot the graph using Graph() function\n",
    "\tCountNull = miss_df.isnull().sum();Graph(CountNull,\"SOLUTION OF Q1\",'Attribute','Frequency of Missing Values')\n"
   ]
  },
  {
   "cell_type": "code",
   "execution_count": 5,
   "metadata": {},
   "outputs": [
    {
     "data": {
      "image/png": "[encoded data removed]",
      "text/plain": [
       "<Figure size 432x288 with 1 Axes>"
      ]
     },
     "metadata": {
      "needs_background": "light"
     },
     "output_type": "display_data"
    }
   ],
   "source": [
    "Q1()"
   ]
  },
  {
   "cell_type": "code",
   "execution_count": 6,
   "metadata": {},
   "outputs": [],
   "source": [
    "def Q2():\n",
    "    print(\"\\n_______2(a)._______\\n\")\n",
    "    print(\"Delete (drop) the tuples (rows) having equal to or more than one third of attributes with missing values\")\n",
    "    dropRow=[] # list contains rows that are to drop \n",
    "    for i in miss_df.index: # using loop to find the rows that contain null values greater than 3\n",
    "        if miss_df.loc[i].isnull().sum()>=3 :\n",
    "            dropRow.append(i)\n",
    "    print(\"* Total rows deleted:\",len(dropRow)) # printing number of rows to delete \n",
    "    print(\"* Row number of deleted tuples:\",*dropRow)\n",
    "    print(\"\\n_______2(b)._______\\n\")\n",
    "    print(\"Drop the tuples (rows) having missing value in the target (class) attribute\")\n",
    "    miss_df.drop(dropRow,inplace=True) # droping tuples of specific rows\n",
    "    row_emptyClass=miss_df[miss_df['class'].isnull()].index.tolist() # making list that contain null value of attribute class \n",
    "    miss_df.drop(row_emptyClass,inplace=True)  # drping tuples on the basis of rows that has empty value in class attribute\n",
    "    print(\"* Total rows deleted:\",len(row_emptyClass))   \n",
    "    print(\"* Row number of deleted tuple:\",*row_emptyClass)\n"
   ]
  },
  {
   "cell_type": "code",
   "execution_count": 7,
   "metadata": {},
   "outputs": [
    {
     "name": "stdout",
     "output_type": "stream",
     "text": [
      "\n",
      "_______2(a)._______\n",
      "\n",
      "Delete (drop) the tuples (rows) having equal to or more than one third of attributes with missing values\n",
      "* Total rows deleted: 39\n",
      "* Row number of deleted tuples: 1 39 40 53 54 83 89 103 125 136 145 210 211 212 213 249 250 254 280 281 284 314 321 335 429 430 449 450 451 471 472 473 474 718 719 720 721 753 766\n",
      "\n",
      "_______2(b)._______\n",
      "\n",
      "Drop the tuples (rows) having missing value in the target (class) attribute\n",
      "* Total rows deleted: 21\n",
      "* Row number of deleted tuple: 8 13 28 29 35 62 92 95 107 110 130 131 132 133 149 182 188 218 308 746 748\n"
     ]
    }
   ],
   "source": [
    "Q2()"
   ]
  },
  {
   "cell_type": "code",
   "execution_count": 8,
   "metadata": {},
   "outputs": [],
   "source": [
    "def Q3():\n",
    "    print(\"\\n* The number of missing values in each attributes\")\n",
    "    nullvalue= miss_df.isnull().sum() # getting total null values of each attribute\n",
    "    data = {\"Attribute\":attributes,\"Total null values\":nullvalue}\n",
    "    data = pd.DataFrame(data) # forming data in tabular form\n",
    "    data= data.set_index([\"Attribute\"])\n",
    "    print(data)\n",
    "    print(\"\\n* Total Missing Value in file:\",sum(nullvalue))\n"
   ]
  },
  {
   "cell_type": "code",
   "execution_count": 9,
   "metadata": {},
   "outputs": [
    {
     "name": "stdout",
     "output_type": "stream",
     "text": [
      "\n",
      "* The number of missing values in each attributes\n",
      "           Total null values\n",
      "Attribute                   \n",
      "pregs                      0\n",
      "plas                      12\n",
      "pres                       9\n",
      "skin                       8\n",
      "test                       8\n",
      "BMI                       12\n",
      "pedi                       2\n",
      "Age                       18\n",
      "class                      0\n",
      "\n",
      "* Total Missing Value in file: 69\n"
     ]
    }
   ],
   "source": [
    "Q3()"
   ]
  },
  {
   "cell_type": "code",
   "execution_count": 19,
   "metadata": {},
   "outputs": [],
   "source": [
    "l=[] # list that contain list of rows of each attribute that has missing values \n",
    "def nullRows(s): #using this funtion we find the list of row of an attribute that has empty value\n",
    "    a=(miss_df[miss_df[s].isnull()].index.tolist())\n",
    "    l.append(a)\n",
    "\n",
    "def DataFrame(t): # function for calculation mean, median, mode , standard deviation of each attribute of the data\n",
    "    data = {\"Attributes\":attributes,\"mean\":t.mean().tolist(),\n",
    "                \"median\":t.median().tolist(),\n",
    "                \"mode\":t.mode().iloc[0].tolist(),\n",
    "                \"std\":t.std().tolist()}\n",
    "    dataFrame = pd.DataFrame(data) # forming data in tabular form\n",
    "    dataFrame = dataFrame.set_index([\"Attributes\"])\n",
    "    print(dataFrame)\n",
    "\n",
    "def RMSE(attribute,nullRows,data): # function to calculate RMSE of an attribute\n",
    "    rms=0\n",
    "    for i in nullRows:\n",
    "        rms += (data[attribute].loc[i]-original_df[attribute].loc[i])**2  # using formula of RMSE\n",
    "    if rms == 0:\n",
    "        return rms\n",
    "    return (rms/len(nullRows))**0.5\n",
    "\n",
    "def showRMSE(t): # funtion to show the RMSE of each attribute in a tabular form using dataframe\n",
    "    rmselist=[]\n",
    "    for i in range(len(attributes)):\n",
    "        rmselist.append(RMSE(attributes[i],l[i],t))\n",
    "    data = {\"Attribute\":attributes,\"RMSE\":rmselist}\n",
    "    data = pd.DataFrame(data) # forming data in a tabular form\n",
    "    data = data.set_index([\"Attribute\"])\n",
    "    print(data)\n",
    "    Graph(rmselist,'','Attribute','RMSE') # using Graph function to draw the graph between RMS and attribute\n",
    "    "
   ]
  },
  {
   "cell_type": "code",
   "execution_count": 20,
   "metadata": {},
   "outputs": [],
   "source": [
    "def Q4(): \n",
    "    print(\"\\n_______4(a)._______\")\n",
    "    print(\"Null Value of Data filled using mean\\n\\n(i).\\n\")\n",
    "    print(\"* Missing Data: Mean, median, mode and standard deviation \")\n",
    "    fix_using_mean = miss_df.fillna(round(miss_df.mean())) # filling null value of data using mean of each attribute        \n",
    "    DataFrame(fix_using_mean) # using DataFrame Function to show mean,median,mode etc. of missing data\n",
    "    print(\"\\n* Original Data: Mean, median, mode and standard deviation \")\n",
    "    DataFrame(original_df) # using DataFrame Function to show mean,median,mode etc. of original data\n",
    "    print(\"\\n(ii).\\n\\n* Calculated RMSE of each attribute\")\n",
    "    showRMSE(fix_using_mean)  # using showRMSE function to show RMSE of data\n",
    "    print()\n",
    "    print(\"_______4(b)._______\")\n",
    "    print(\"Null Value of Data filled using linear interpolation\\n\\n(i).\\n\")\n",
    "    print(\"* Missing Data: Mean, median, mode and standard deviation\")\n",
    "    fix_using_interpolate = miss_df.fillna(round(miss_df.interpolate())) # filling null value of data using interpolation in each attribute \n",
    "    DataFrame(fix_using_interpolate) # using DataFrame Function to show mean,median,mode etc. of missing data\n",
    "    print(\"\\n*Original Data: Mean, median, mode and standard deviation \")\n",
    "    DataFrame(original_df) # using DataFrame Function to show mean,median,mode etc. of original data\n",
    "    print(\"(ii).\")\n",
    "    print(\"\\n(ii).\\n\\n* Calculated RMSE of each attribute\")\n",
    "    showRMSE(fix_using_interpolate) # using showRMSE function to show RMSE of data"
   ]
  },
  {
   "cell_type": "code",
   "execution_count": 21,
   "metadata": {},
   "outputs": [
    {
     "name": "stdout",
     "output_type": "stream",
     "text": [
      "\n",
      "_______4(a)._______\n",
      "Null Value of Data filled using mean\n",
      "\n",
      "(i).\n",
      "\n",
      "* Missing Data: Mean, median, mode and standard deviation \n",
      "                  mean    median     mode         std\n",
      "Attributes                                           \n",
      "pregs         3.885593    3.0000    1.000    3.373860\n",
      "plas        120.672316  118.0000  121.000   30.990211\n",
      "pres         69.001412   72.0000   70.000   19.691360\n",
      "skin         20.344633   23.0000    0.000   15.946246\n",
      "test         77.816384   36.0000    0.000  110.607607\n",
      "BMI          32.009181   32.0000   32.000    7.764755\n",
      "pedi          0.474698    0.3805    0.254    0.334157\n",
      "Age          33.091808   29.0000   22.000   11.519680\n",
      "class         0.343220    0.0000    0.000    0.475120\n",
      "\n",
      "* Original Data: Mean, median, mode and standard deviation \n",
      "                  mean    median    mode         std\n",
      "Attributes                                          \n",
      "pregs         3.845052    3.0000   1.000    3.369578\n",
      "plas        120.894531  117.0000  99.000   31.972618\n",
      "pres         69.105469   72.0000  70.000   19.355807\n",
      "skin         20.536458   23.0000   0.000   15.952218\n",
      "test         79.799479   30.5000   0.000  115.244002\n",
      "BMI          31.992578   32.0000  32.000    7.884160\n",
      "pedi          0.471876    0.3725   0.254    0.331329\n",
      "Age          33.240885   29.0000  22.000   11.760232\n",
      "class         0.348958    0.0000   0.000    0.476951\n",
      "\n",
      "(ii).\n",
      "\n",
      "* Calculated RMSE of each attribute\n",
      "                RMSE\n",
      "Attribute           \n",
      "pregs       0.000000\n",
      "plas       42.557804\n",
      "pres        8.950481\n",
      "skin       15.672428\n",
      "test       54.994318\n",
      "BMI        10.448884\n",
      "pedi        0.451146\n",
      "Age        15.394804\n",
      "class       0.000000\n"
     ]
    },
    {
     "data": {
      "image/png": "[encoded data removed]",
      "text/plain": [
       "<Figure size 432x288 with 1 Axes>"
      ]
     },
     "metadata": {
      "needs_background": "light"
     },
     "output_type": "display_data"
    },
    {
     "name": "stdout",
     "output_type": "stream",
     "text": [
      "\n",
      "_______4(b)._______\n",
      "Null Value of Data filled using linear interpolation\n",
      "\n",
      "(i).\n",
      "\n",
      "* Missing Data: Mean, median, mode and standard deviation\n",
      "                  mean    median    mode         std\n",
      "Attributes                                          \n",
      "pregs         3.885593    3.0000   1.000    3.373860\n",
      "plas        120.348870  117.0000  99.000   31.274096\n",
      "pres         69.108757   72.0000  70.000   19.735687\n",
      "skin         20.391243   23.0000   0.000   15.975610\n",
      "test         77.354520   27.0000   0.000  110.755858\n",
      "BMI          32.045904   32.2500  32.000    7.792990\n",
      "pedi          0.477523    0.3825   0.254    0.334359\n",
      "Age          33.211864   29.0000  22.000   11.650511\n",
      "class         0.343220    0.0000   0.000    0.475120\n",
      "\n",
      "*Original Data: Mean, median, mode and standard deviation \n",
      "                  mean    median    mode         std\n",
      "Attributes                                          \n",
      "pregs         3.845052    3.0000   1.000    3.369578\n",
      "plas        120.894531  117.0000  99.000   31.972618\n",
      "pres         69.105469   72.0000  70.000   19.355807\n",
      "skin         20.536458   23.0000   0.000   15.952218\n",
      "test         79.799479   30.5000   0.000  115.244002\n",
      "BMI          31.992578   32.0000  32.000    7.884160\n",
      "pedi          0.471876    0.3725   0.254    0.331329\n",
      "Age          33.240885   29.0000  22.000   11.760232\n",
      "class         0.348958    0.0000   0.000    0.476951\n",
      "(ii).\n",
      "\n",
      "(ii).\n",
      "\n",
      "* Calculated RMSE of each attribute\n",
      "                RMSE\n",
      "Attribute           \n",
      "pregs       0.000000\n",
      "plas       57.028502\n",
      "pres       13.747727\n",
      "skin       14.739403\n",
      "test       68.990941\n",
      "BMI        12.809339\n",
      "pedi        0.551845\n",
      "Age        17.440375\n",
      "class       0.000000\n"
     ]
    },
    {
     "data": {
      "image/png": "[encoded data removed]",
      "text/plain": [
       "<Figure size 432x288 with 1 Axes>"
      ]
     },
     "metadata": {
      "needs_background": "light"
     },
     "output_type": "display_data"
    }
   ],
   "source": [
    "for i in attributes:\n",
    "    nullRows(i)\n",
    "Q4()"
   ]
  },
  {
   "cell_type": "code",
   "execution_count": 22,
   "metadata": {},
   "outputs": [],
   "source": [
    "def outliner(data,attr): # funtio to calculate the outliner of an attribute \n",
    "    minimum = 2.5 * np.percentile(data[attr], 25) - 1.5 * np.percentile(data[attr], 75)\n",
    "    maximum = 2.5 * np.percentile(data[attr], 75) - 1.5 * np.percentile(data[attr], 25)\n",
    "    return pd.concat((data[attr][data[attr] < minimum], data[attr][data[attr] > maximum])) # returning data in a tabular form that conatin only outliner  \n",
    "\n",
    "def boxplot(data): # function to ploting boxploit of Age and BMI boxplot \n",
    "    fig,axs=plt.subplots(1,2,figsize=(5,6)) \n",
    "    data.boxplot(column=['Age'],ax=axs[0])\n",
    "    data.boxplot(column=['BMI'],ax=axs[1])\n",
    "    fig.tight_layout(pad=2.0)\n",
    "    plt.show()"
   ]
  },
  {
   "cell_type": "code",
   "execution_count": 23,
   "metadata": {},
   "outputs": [],
   "source": [
    "def Q5():\n",
    "    print(\"_______5(a)._______\")\n",
    "    print(\"Replacing the missing values by interpolation method\")\n",
    "    print(\"* Box Plot of attribute 'Age' and 'BMI'\")\n",
    "    #a = miss_df.fillna(round(miss_df.interpolate())) # filling null value of data using interpolation in each attribute\n",
    "    miss_df.fillna(round(miss_df.interpolate()),inplace=True)\n",
    "    print(f\"(i). Outliner in Age: {outliner(miss_df,'Age').values}\") # printing outliner of Age attribute using outlier function\n",
    "    print(f\"(ii). Outliner in BMI: {outliner(miss_df,'BMI').values}\") # printing outliner of BMI attribute using outlier function\n",
    "     # printing outliner of BMI attribute using outlier function\n",
    "    \n",
    "    #a.drop(outliner(miss_df,'Age').index,inplace=True)\n",
    "    #print(len(a['Age']),len(miss_df['Age']))\n",
    "    #print(f\"(ii). Outliner in age: {outliner(a,'Age')}\")\n",
    "    #boxplot(miss_df)\n",
    "    #miss_df['Age'][outliner(miss_df,\"Age\").index] = a['Age'].median()\n",
    "     # ploting boxplot\n",
    "    boxplot(miss_df)\n",
    "    print(\"_______5(b)._______\")\n",
    "    print(\"Replacing the outliners using median of data\")\n",
    "    print(\"* Box Plot of attribute 'Age' and 'BMI'\")\n",
    "    miss_df['Age'][outliner(miss_df,\"Age\").index] = miss_df['Age'].median() # replacing the outliner using median of the attribute\n",
    "    miss_df['BMI'][outliner(miss_df,\"BMI\").index] = miss_df['BMI'].median()\n",
    "    print(f\"(i). Outliner in Age: {outliner(miss_df,'Age').values}\") # printing outliner of Age attribute using outlier function\n",
    "    print(f\"(ii). Outliner in BMI: {outliner(miss_df,'BMI').values}\")\n",
    "    boxplot(miss_df) # ploting boxplot"
   ]
  },
  {
   "cell_type": "code",
   "execution_count": 24,
   "metadata": {},
   "outputs": [
    {
     "name": "stdout",
     "output_type": "stream",
     "text": [
      "_______5(a)._______\n",
      "Replacing the missing values by interpolation method\n",
      "* Box Plot of attribute 'Age' and 'BMI'\n",
      "(i). Outliner in Age: [69. 67. 72. 81. 67. 70. 68. 69.]\n",
      "(ii). Outliner in BMI: [ 0.   0.   0.   0.   0.   0.   0.   0.   0.  53.2 67.1 52.3 52.3 52.9\n",
      " 59.4 57.3]\n"
     ]
    },
    {
     "data": {
      "image/png": "[encoded data removed]",
      "text/plain": [
       "<Figure size 360x432 with 2 Axes>"
      ]
     },
     "metadata": {
      "needs_background": "light"
     },
     "output_type": "display_data"
    },
    {
     "name": "stdout",
     "output_type": "stream",
     "text": [
      "_______5(b)._______\n",
      "Replacing the outliners using median of data\n",
      "* Box Plot of attribute 'Age' and 'BMI'\n",
      "(i). Outliner in Age: [65. 66. 65. 65. 66. 66. 66.]\n",
      "(ii). Outliner in BMI: []\n"
     ]
    },
    {
     "data": {
      "image/png": "[encoded data removed]",
      "text/plain": [
       "<Figure size 360x432 with 2 Axes>"
      ]
     },
     "metadata": {
      "needs_background": "light"
     },
     "output_type": "display_data"
    }
   ],
   "source": [
    "Q5()"
   ]
  },
  {
   "cell_type": "code",
   "execution_count": null,
   "metadata": {},
   "outputs": [],
   "source": []
  }
 ],
 "metadata": {
  "kernelspec": {
   "display_name": "Python 3",
   "language": "python",
   "name": "python3"
  },
  "language_info": {
   "codemirror_mode": {
    "name": "ipython",
    "version": 3
   },
   "file_extension": ".py",
   "mimetype": "text/x-python",
   "name": "python",
   "nbconvert_exporter": "python",
   "pygments_lexer": "ipython3",
   "version": "3.7.4"
  }
 },
 "nbformat": 4,
 "nbformat_minor": 2
}
